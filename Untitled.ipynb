{
 "cells": [
  {
   "cell_type": "code",
   "execution_count": 2,
   "id": "872489d0-1cb8-4abd-8682-f5d0fb4b508e",
   "metadata": {},
   "outputs": [],
   "source": [
    "import pandas as pd"
   ]
  },
  {
   "cell_type": "code",
   "execution_count": 3,
   "id": "cdd1a069-43b1-4f60-8e8f-7f5482f4ad77",
   "metadata": {},
   "outputs": [],
   "source": [
    "df = pd.read_csv(\"data/sub_train_bert_ner.csv\")\n",
    "raw_summary = pd.read_csv(\"data/raw_dev_summary.csv\")\n",
    "raw_summary = raw_summary.rename(columns={\"Unnamed: 0\": \"id\"}).copy()\n",
    "df = df.merge(raw_summary, on='id').copy()"
   ]
  },
  {
   "cell_type": "code",
   "execution_count": 146,
   "id": "693b04bd-ec72-43cf-9ed6-608df99fd380",
   "metadata": {},
   "outputs": [
    {
     "data": {
      "text/plain": [
       "'O O O O O O O O O O O O O O O O O O O O O O O O O O O O O O O O O O O O O O O O O O O O O O O O O O O O O O O O O O O O O O O O O O O O O O O O O O O O O O O O O O O O O O O O O O O O O O O O O O O O O O O O O O O O O O O O O O O O O B-PHONE B-EMAIL O'"
      ]
     },
     "execution_count": 146,
     "metadata": {},
     "output_type": "execute_result"
    }
   ],
   "source": [
    "cleaned_txt = remove_char(df['summary'].iloc[4])\n",
    "phones = parse_phone_number(cleaned_txt)\n",
    "email = parse_email(cleaned_txt)\n",
    "labled_text(cleaned_txt, phones, email)"
   ]
  },
  {
   "cell_type": "code",
   "execution_count": 147,
   "id": "b4fa52da-871b-4054-a62b-7e0e51100d51",
   "metadata": {},
   "outputs": [
    {
     "data": {
      "text/plain": [
       "'Мы более 24 лет торгуем швейными нитками на Украине. Решаем любые нестандартные задачи связанные с применением ниток. Мы работаем на всех рынках где используются нитки. У нас есть собственное производство швейных ниток для домашнего использования. Производим торговое оборудование для швейных ниток а так же для магазинов швейной и обувной фурнитуры. Приглашаем к сотрудничеству производителей: Сырья для текстильной промышленности; Швейных ниток, Технических ниток и пряжи. Специалистов по продажам. We have been selling sewing threads in Ukraine for more than 24 years. -production of sewing threads for home use, -production trading equipment for sewing threads We invite you to cooperation manufacturers: Raw materials for the textile industry; Sewing threads and yarn. Technical threads. Alexander Luts Legpromservice ltd Kiev Ukrain +380503308726 lps@nitki.com.ua nitki.com.ua'"
      ]
     },
     "execution_count": 147,
     "metadata": {},
     "output_type": "execute_result"
    }
   ],
   "source": [
    "remove_char(df['summary'].iloc[4])"
   ]
  },
  {
   "cell_type": "code",
   "execution_count": 130,
   "id": "2267982c-c964-487c-9c63-b107e521d001",
   "metadata": {},
   "outputs": [
    {
     "data": {
      "text/plain": [
       "[]"
      ]
     },
     "execution_count": 130,
     "metadata": {},
     "output_type": "execute_result"
    }
   ],
   "source": [
    "parse_email(df['summary'].iloc[2])"
   ]
  },
  {
   "cell_type": "code",
   "execution_count": 112,
   "id": "8760598c-2395-4b42-8458-7e0358a58ba9",
   "metadata": {},
   "outputs": [
    {
     "data": {
      "text/plain": [
       "[]"
      ]
     },
     "execution_count": 112,
     "metadata": {},
     "output_type": "execute_result"
    }
   ],
   "source": [
    "phones"
   ]
  },
  {
   "cell_type": "code",
   "execution_count": null,
   "id": "38e22fbc-97d1-4129-90e9-1f6b70921596",
   "metadata": {},
   "outputs": [],
   "source": [
    "мне нужно написать часть код на пайтон. ты можешь написать следующие функции\n",
    "1. def remove_char, на вход функции передаем текст, функция должна очистить текст от скобок, кавычек, ссылок и выдать на выходе очищенный текст. \n",
    "Очистка должна быть через регулярные выражения.\n",
    "2. def parse_phone_number, на вход фукциии передаем текст, дальше с помощью регулярных выражений извлекаем номера телефонов и на выходе возвращаем список из номеров телефонов\n",
    "3. def parse_email, на вход фукциии передаем текст, дальше с помощью регулярных выражений извлекаем emails и на выходе возвращаем список из emails\n",
    "4 def labled_text, на вход передаем текст, список номеров телефонов, список emails. Затем функция должна найти в тексте все номера телефонов и емайлы и на выходе вернуть промаркированный \n",
    "текст для обучения BERT NER модели. Пример работы def labled_text, на входе \"Some text. 0958427131, 0687668047. email kalian@gmail.com\", на выходе \"O O PHONE PHONE O EMAIL\""
   ]
  },
  {
   "cell_type": "code",
   "execution_count": 135,
   "id": "dfe9c056-9b58-47ca-9fad-afa651e680fe",
   "metadata": {},
   "outputs": [],
   "source": [
    "import re\n",
    "\n",
    "def remove_char(text: str) -> str:\n",
    "    \"\"\"Remove unwanted characters from text.\"\"\"\n",
    "    text = re.sub(r\"http\\S+\", \"\", text)\n",
    "    text = re.sub(r\"[^a-zA-Z0-9\\s]+\", \"\", text)\n",
    "    return text.strip()\n",
    "\n",
    "def parse_phone_number(text):\n",
    "    # Extracts phone numbers from the text using regex and returns as a list\n",
    "    phone_regex = r'\\+?[0-9]{1,3}[-.\\s]?\\(?[0-9]{3}\\)?[-.\\s]?[0-9]{3}[-.\\s]?[0-9]{4}'\n",
    "    return re.findall(phone_regex, text)\n",
    "\n",
    "def parse_email(text):\n",
    "    # Extracts email addresses from the text using regex and returns as a list\n",
    "    email_regex = r'\\b[A-Za-z0-9._%+-]+@[A-Za-z0-9.-]+\\.[A-Z|a-z]{2,}\\b'\n",
    "    return re.findall(email_regex, text)\n",
    "\n",
    "def labled_text(text, phone_numbers, emails):\n",
    "    # Finds all phone numbers and emails in the text and returns the tagged text for training the BERT NER model\n",
    "    if not phone_numbers and not emails:\n",
    "        return ' '.join(['O'] * len(text.split()))\n",
    "    elif phone_numbers and emails:\n",
    "        phone_regex = '|'.join(map(re.escape, phone_numbers))\n",
    "        email_regex = '|'.join(map(re.escape, emails))\n",
    "        regex_pattern = f'({phone_regex})|({email_regex})'\n",
    "        matches = re.finditer(regex_pattern, text)\n",
    "        tags = []\n",
    "        for match in matches:\n",
    "            if match.group(1):\n",
    "                phone_num = match.group(1).strip()\n",
    "                words = phone_num.split()\n",
    "                tags += ['B-PHONE'] + ['I-PHONE'] * (len(words) - 1)\n",
    "            else:\n",
    "                email = match.group(2).strip()\n",
    "                words = email.split()\n",
    "                tags += ['B-EMAIL'] + ['I-EMAIL'] * (len(words) - 1)\n",
    "        words = text.split()\n",
    "        tagged_text = []\n",
    "        for i in range(len(words)):\n",
    "            if words[i] in phone_numbers:\n",
    "                tagged_text.append('B-PHONE')\n",
    "            elif words[i] in emails:\n",
    "                tagged_text.append('B-EMAIL')\n",
    "            else:\n",
    "                tagged_text.append('O')\n",
    "        return ' '.join(tagged_text)\n",
    "    elif not phone_numbers:\n",
    "        email_regex = '|'.join(map(re.escape, emails))\n",
    "        regex_pattern = f'({email_regex})'\n",
    "        matches = re.finditer(regex_pattern, text)\n",
    "        tags = []\n",
    "        for match in matches:\n",
    "            if match.group(1):\n",
    "                email = match.group(1).strip()\n",
    "                words = email.split()\n",
    "                tags += ['B-EMAIL'] + ['I-EMAIL'] * (len(words) - 1)\n",
    "        words = text.split()\n",
    "        tagged_text = []\n",
    "        for i in range(len(words)):\n",
    "            if words[i] in emails:\n",
    "                tagged_text.append('B-EMAIL')\n",
    "            else:\n",
    "                tagged_text.append('O')\n",
    "        return ' '.join(tagged_text)\n",
    "    elif not emails:\n",
    "        phone_regex = '|'.join(map(re.escape, phone_numbers))\n",
    "        regex_pattern = f'({phone_regex})'\n",
    "        matches = re.finditer(regex_pattern, text)\n",
    "        tags = []\n",
    "        for match in matches:\n",
    "            if match.group(1):\n",
    "                phone_num = match.group(1).strip()\n",
    "                words = phone_num.split()\n",
    "                tags += ['B-PHONE'] + ['I-PHONE'] * (len(words) - 1)\n",
    "        words = text.split()\n",
    "        tagged_text = []\n",
    "        for i in range(len(words)):\n",
    "            if words[i] in phone_numbers:\n",
    "                tagged_text.append('B-PHONE')\n",
    "            else:\n",
    "                tagged_text.append('O')\n",
    "        return ' '.join(tagged_text)"
   ]
  },
  {
   "cell_type": "code",
   "execution_count": 138,
   "id": "3439f3f6-a7b0-4352-bbaf-b7791f9c3c8d",
   "metadata": {},
   "outputs": [],
   "source": [
    "import re\n",
    "\n",
    "\n",
    "def remove_char(text: str) -> str:\n",
    "    text = re.sub(r\"http\\S+\", \"\", text)\n",
    "    text = re.sub(\"\\\\[|\\\\]|\\(|\\)\", \" \", text)  # noqa\n",
    "    text = re.sub(r\"\\\"|•|\\'|\\\\n|“|”|\\\\t|\\b|«|\\|№\\w*»\", \"\", text)\n",
    "    fin_text = \" \".join(text.split())\n",
    "    return fin_text\n",
    "\n",
    "\n",
    "def parse_phone_number(text):\n",
    "    \"\"\"Extract phone numbers from text using regex and return as a list.\"\"\"\n",
    "    phone_regex = r\"\\+?\\d{1,3}[-.\\s]?\\(?\\d{3}\\)?[-.\\s]?\\d{3}[-.\\s]?\\d{4}\"\n",
    "    return re.findall(phone_regex, text)\n",
    "\n",
    "\n",
    "def parse_email(text):\n",
    "    \"\"\"Extract email addresses from text using regex and return as a list.\"\"\"\n",
    "    email_regex = r\"\\b[A-Za-z0-9._%+-]+@[A-Za-z0-9.-]+\\.[A-Z|a-z]{2,}\\b\"\n",
    "    return re.findall(email_regex, text)\n",
    "\n",
    "\n",
    "def labeled_text(text, phone_numbers, emails):\n",
    "    \"\"\"\n",
    "    Find all phone numbers and emails in the text and return the tagged text for training the BERT NER model.\n",
    "    \"\"\"\n",
    "    if not phone_numbers and not emails:\n",
    "        return \" \".join([\"O\"] * len(text.split()))\n",
    "\n",
    "    tags = []\n",
    "    for word in text.split():\n",
    "        if word in phone_numbers:\n",
    "            tags += [\"B-PHONE\"]\n",
    "            tags += [\"I-PHONE\"] * (len(word.split()) - 1)\n",
    "        elif word in emails:\n",
    "            tags += [\"B-EMAIL\"]\n",
    "            tags += [\"I-EMAIL\"] * (len(word.split()) - 1)\n",
    "        else:\n",
    "            tags += [\"O\"]\n",
    "\n",
    "    return \" \".join(tags)"
   ]
  },
  {
   "cell_type": "code",
   "execution_count": 57,
   "id": "6baa81de-f2a8-41cd-807e-51da8f040e57",
   "metadata": {},
   "outputs": [],
   "source": [
    "phone_regex = '|'.join(map(re.escape, numbers))\n",
    "email_regex = '|'.join(map(re.escape, emails))\n",
    "regex_pattern = f'({phone_regex})|({email_regex})'\n",
    "matches = re.finditer(regex_pattern, txt)\n",
    "tags = []"
   ]
  },
  {
   "cell_type": "code",
   "execution_count": 67,
   "id": "69ae5e33-8235-4f45-b9d4-b1939cd425de",
   "metadata": {},
   "outputs": [],
   "source": [
    "for match in matches:\n",
    "    if match.group(1):\n",
    "        phone_num = match.group(1).strip()\n",
    "        words = phone_num.split()\n",
    "        tags += ['B-PHONE'] + ['I-PHONE'] * (len(words) - 1)\n",
    "    else:\n",
    "        email = match.group(2).strip()\n",
    "        words = email.split()\n",
    "        tags += ['B-EMAIL'] + ['I-EMAIL'] * (len(words) - 1)"
   ]
  },
  {
   "cell_type": "code",
   "execution_count": 77,
   "id": "5e944364-6703-469c-9bd8-fdb32c5fa9ca",
   "metadata": {},
   "outputs": [],
   "source": [
    "df = pd.read_csv(\"data/sub_train_bert_ner.csv\")"
   ]
  },
  {
   "cell_type": "code",
   "execution_count": 78,
   "id": "d8a66398-f314-46d3-94fb-4b74f4db0ceb",
   "metadata": {},
   "outputs": [
    {
     "data": {
      "text/html": [
       "<div>\n",
       "<style scoped>\n",
       "    .dataframe tbody tr th:only-of-type {\n",
       "        vertical-align: middle;\n",
       "    }\n",
       "\n",
       "    .dataframe tbody tr th {\n",
       "        vertical-align: top;\n",
       "    }\n",
       "\n",
       "    .dataframe thead th {\n",
       "        text-align: right;\n",
       "    }\n",
       "</style>\n",
       "<table border=\"1\" class=\"dataframe\">\n",
       "  <thead>\n",
       "    <tr style=\"text-align: right;\">\n",
       "      <th></th>\n",
       "      <th>Unnamed: 0</th>\n",
       "      <th>id</th>\n",
       "      <th>phone</th>\n",
       "      <th>all_email</th>\n",
       "    </tr>\n",
       "  </thead>\n",
       "  <tbody>\n",
       "    <tr>\n",
       "      <th>0</th>\n",
       "      <td>21</td>\n",
       "      <td>%D0%B0%D0%BB%D0%B5%D0%BA%D1%81%D0%B0%D0%BD%D0%...</td>\n",
       "      <td>0630676115</td>\n",
       "      <td>empty</td>\n",
       "    </tr>\n",
       "    <tr>\n",
       "      <th>1</th>\n",
       "      <td>56</td>\n",
       "      <td>%D0%B0%D0%B4%D0%B8%D0%BB%D0%BE%D0%B2%D0%B0-%D0...</td>\n",
       "      <td>0953275561</td>\n",
       "      <td>['opt.ibezpeka@gmail.com', 'opt.ibezpeka@i.ua']</td>\n",
       "    </tr>\n",
       "    <tr>\n",
       "      <th>2</th>\n",
       "      <td>182</td>\n",
       "      <td>%D0%B0%D0%BB%D0%B5%D0%BA%D1%81%D0%B0%D0%BD%D0%...</td>\n",
       "      <td>0503341033</td>\n",
       "      <td>empty</td>\n",
       "    </tr>\n",
       "    <tr>\n",
       "      <th>3</th>\n",
       "      <td>355</td>\n",
       "      <td>%D0%B0%D0%BB%D0%B5%D0%BA%D1%81%D0%B0%D0%BD%D0%...</td>\n",
       "      <td>0994696824</td>\n",
       "      <td>empty</td>\n",
       "    </tr>\n",
       "    <tr>\n",
       "      <th>4</th>\n",
       "      <td>373</td>\n",
       "      <td>%D0%B0%D0%BB%D0%B5%D0%BA%D1%81%D0%B0%D0%BD%D0%...</td>\n",
       "      <td>0503308726</td>\n",
       "      <td>['lps@nitki.com.ua']</td>\n",
       "    </tr>\n",
       "    <tr>\n",
       "      <th>...</th>\n",
       "      <td>...</td>\n",
       "      <td>...</td>\n",
       "      <td>...</td>\n",
       "      <td>...</td>\n",
       "    </tr>\n",
       "    <tr>\n",
       "      <th>24609</th>\n",
       "      <td>645881</td>\n",
       "      <td>роман-галустян-a4128b243</td>\n",
       "      <td>0668686101</td>\n",
       "      <td>['galustyanr@gmail.com']</td>\n",
       "    </tr>\n",
       "    <tr>\n",
       "      <th>24610</th>\n",
       "      <td>645893</td>\n",
       "      <td>роман-голуза-3976bb133</td>\n",
       "      <td>empty</td>\n",
       "      <td>['goluzar@gmail.com']</td>\n",
       "    </tr>\n",
       "    <tr>\n",
       "      <th>24611</th>\n",
       "      <td>645907</td>\n",
       "      <td>роман-дубовой-1b9788bb</td>\n",
       "      <td>0673969649</td>\n",
       "      <td>empty</td>\n",
       "    </tr>\n",
       "    <tr>\n",
       "      <th>24612</th>\n",
       "      <td>645935</td>\n",
       "      <td>работа-онлайн-2b9274207</td>\n",
       "      <td>0997277432</td>\n",
       "      <td>empty</td>\n",
       "    </tr>\n",
       "    <tr>\n",
       "      <th>24613</th>\n",
       "      <td>646073</td>\n",
       "      <td>роман-кулак-2b7b04141</td>\n",
       "      <td>0632695939</td>\n",
       "      <td>empty</td>\n",
       "    </tr>\n",
       "  </tbody>\n",
       "</table>\n",
       "<p>24614 rows × 4 columns</p>\n",
       "</div>"
      ],
      "text/plain": [
       "       Unnamed: 0                                                 id  \\\n",
       "0              21  %D0%B0%D0%BB%D0%B5%D0%BA%D1%81%D0%B0%D0%BD%D0%...   \n",
       "1              56  %D0%B0%D0%B4%D0%B8%D0%BB%D0%BE%D0%B2%D0%B0-%D0...   \n",
       "2             182  %D0%B0%D0%BB%D0%B5%D0%BA%D1%81%D0%B0%D0%BD%D0%...   \n",
       "3             355  %D0%B0%D0%BB%D0%B5%D0%BA%D1%81%D0%B0%D0%BD%D0%...   \n",
       "4             373  %D0%B0%D0%BB%D0%B5%D0%BA%D1%81%D0%B0%D0%BD%D0%...   \n",
       "...           ...                                                ...   \n",
       "24609      645881                           роман-галустян-a4128b243   \n",
       "24610      645893                             роман-голуза-3976bb133   \n",
       "24611      645907                             роман-дубовой-1b9788bb   \n",
       "24612      645935                            работа-онлайн-2b9274207   \n",
       "24613      646073                              роман-кулак-2b7b04141   \n",
       "\n",
       "            phone                                        all_email  \n",
       "0      0630676115                                            empty  \n",
       "1      0953275561  ['opt.ibezpeka@gmail.com', 'opt.ibezpeka@i.ua']  \n",
       "2      0503341033                                            empty  \n",
       "3      0994696824                                            empty  \n",
       "4      0503308726                             ['lps@nitki.com.ua']  \n",
       "...           ...                                              ...  \n",
       "24609  0668686101                         ['galustyanr@gmail.com']  \n",
       "24610       empty                            ['goluzar@gmail.com']  \n",
       "24611  0673969649                                            empty  \n",
       "24612  0997277432                                            empty  \n",
       "24613  0632695939                                            empty  \n",
       "\n",
       "[24614 rows x 4 columns]"
      ]
     },
     "execution_count": 78,
     "metadata": {},
     "output_type": "execute_result"
    }
   ],
   "source": [
    "df"
   ]
  },
  {
   "cell_type": "code",
   "execution_count": 50,
   "id": "67b38056-7c16-471d-acb7-c8fc0619ba45",
   "metadata": {},
   "outputs": [
    {
     "data": {
      "text/plain": [
       "'(\\\\+380958427131|\\\\+380687668047)|(kalyanivan@gmail\\\\.com|ivan@mail\\\\.ua)'"
      ]
     },
     "execution_count": 50,
     "metadata": {},
     "output_type": "execute_result"
    }
   ],
   "source": [
    "regex_pattern"
   ]
  },
  {
   "cell_type": "code",
   "execution_count": 124,
   "id": "78e6afd8-408b-42d0-86ad-bc669cf04a3c",
   "metadata": {},
   "outputs": [
    {
     "data": {
      "text/plain": [
       "'O O O O O O O O O O B-PHONE O'"
      ]
     },
     "execution_count": 124,
     "metadata": {},
     "output_type": "execute_result"
    }
   ],
   "source": [
    "txt = \"Hey. My name is Ivan. My Phone My number email +380958427131 телефон\"\n",
    "numbers = parse_phone_number(txt)\n",
    "emails = parse_email(txt)\n",
    "labled_text(txt, numbers, emails)"
   ]
  },
  {
   "cell_type": "code",
   "execution_count": 37,
   "id": "7031a1b4-96f5-4487-a6ec-58b5d9889780",
   "metadata": {},
   "outputs": [
    {
     "data": {
      "text/plain": [
       "['+380958427131']"
      ]
     },
     "execution_count": 37,
     "metadata": {},
     "output_type": "execute_result"
    }
   ],
   "source": [
    "numbers"
   ]
  },
  {
   "cell_type": "code",
   "execution_count": 45,
   "id": "ddfc8f28-4e97-4374-b1af-0825fdbb217b",
   "metadata": {},
   "outputs": [],
   "source": [
    "import re\n",
    "def remove_char(text: str) -> str:\n",
    "    text = re.sub(r\"http\\S+\", \"\", text)\n",
    "    text = re.sub(\"\\\\[|\\\\]|\\(|\\)\", \" \", text)  # noqa\n",
    "    text = re.sub(r\"\\\"|•|\\'|\\\\n|“|”|\\\\t|\\b|«|\\|№\\w*»\", \"\", text)\n",
    "    fin_text = \" \".join(text.split())\n",
    "    return fin_text\n",
    "\n",
    "\n",
    "def parse_phone_number(text):\n",
    "    # Define regular expression to match phone number\n",
    "    phone_regex = r'\\(?\\d{3}\\)?[-.\\s]?\\d{3}[-.\\s]?\\d{4}'\n",
    "    \n",
    "    # Find all matches of phone number in text\n",
    "    phone_matches = re.findall(phone_regex, text)\n",
    "    \n",
    "    # Replace each phone number with a tagged version\n",
    "    for phone in phone_matches:\n",
    "        text = text.replace(phone, f'<PHONE>{phone}</PHONE>')\n",
    "    \n",
    "    return phone_matches\n",
    "\n",
    "def parse_email(text):\n",
    "    # Define regular expression to match email\n",
    "    email_regex = r'\\b[A-Za-z0-9._%+-]+@[A-Za-z0-9.-]+\\.[A-Z|a-z]{2,}\\b'\n",
    "    \n",
    "    # Find all matches of email in text\n",
    "    email_matches = re.findall(email_regex, text)\n",
    "    \n",
    "    # Replace each email with a tagged version\n",
    "    for email in email_matches:\n",
    "        text = text.replace(email, f'<EMAIL>{email}</EMAIL>')\n",
    "    \n",
    "    return email_matches\n",
    "\n",
    "\n",
    "def process_text(text, phones, emails):\n",
    "    \"\"\"\n",
    "    Process the text and label the phone numbers and email addresses with NER tags.\n",
    "\n",
    "    Args:\n",
    "    text (str): The text to process.\n",
    "    phones (list): A list of phone numbers to label.\n",
    "    emails (list): A list of email addresses to label.\n",
    "\n",
    "    Returns:\n",
    "    A list of tuples, where each tuple contains a token and its NER label.\n",
    "    \"\"\"\n",
    "    phone_tokens = []\n",
    "    for phone in phones:\n",
    "        start = text.find(phone)\n",
    "        while start != -1:\n",
    "            end = start + len(phone)\n",
    "            phone_tokens.append((phone, start, end))\n",
    "            start = text.find(phone, end)\n",
    "\n",
    "    email_tokens = []\n",
    "    for email in emails:\n",
    "        start = text.find(email)\n",
    "        while start != -1:\n",
    "            end = start + len(email)\n",
    "            email_tokens.append((email, start, end))\n",
    "            start = text.find(email, end)\n",
    "\n",
    "    tokens = text.split()\n",
    "    labels = ['O'] * len(tokens)\n",
    "    for token, start, end in phone_tokens + email_tokens:\n",
    "        for i in range(len(tokens)):\n",
    "            if start <= len(' '.join(tokens[:i+1]))-1 and end > len(' '.join(tokens[:i])):\n",
    "                if start == len(' '.join(tokens[:i])):\n",
    "                    labels[i] = f'B-{\"PHONE\" if token in phones else \"EMAIL\"}'\n",
    "                else:\n",
    "                    labels[i] = f'I-{\"PHONE\" if token in phones else \"EMAIL\"}'\n",
    "    return labels\n",
    "\n",
    "\n",
    "def label_text(texts, phones, emails):\n",
    "    \"\"\"\n",
    "    Label the phone numbers and email addresses in a list of texts with NER tags.\n",
    "\n",
    "    Args:\n",
    "    texts (list): A list of texts to label.\n",
    "    phones (list): A list of phone numbers to label.\n",
    "    emails (list): A list of email addresses to label.\n",
    "\n",
    "    Returns:\n",
    "    A list of lists of tuples, where each tuple contains a token and its NER label.\n",
    "    \"\"\"\n",
    "    labels = [process_text(text, phones, emails) for text in texts]\n",
    "    return labels\n",
    "\n",
    "\n",
    "def create_ner_dataframe(texts):\n",
    "    \"\"\"\n",
    "    Create a pandas DataFrame with the text, phone number, email address, and NER labels.\n",
    "\n",
    "    Args:\n",
    "    texts (list): A list of texts to label.\n",
    "    phones (list): A list of phone numbers to label.\n",
    "    emails (list): A list of email addresses to label.\n",
    "\n",
    "    Returns:\n",
    "    A pandas DataFrame with the text, phone number, email address, and NER labels.\n",
    "    \"\"\"\n",
    "    phones = [parse_phone_number(text) for text in texts]\n",
    "    emails = [parse_email(text) for text in texts]\n",
    "    labels = label_text(texts, phones, emails)\n",
    "    data = {'text': texts, 'phone': phones, 'email': emails, 'labels': labels}\n",
    "    df = pd.DataFrame(data)\n",
    "    return df\n"
   ]
  },
  {
   "cell_type": "code",
   "execution_count": 39,
   "id": "157586b2-1d05-436e-a115-e4fb695ed841",
   "metadata": {},
   "outputs": [],
   "source": [
    "phones = [parse_phone_number(text) for text in texts]\n",
    "emails = [parse_email(text) for text in texts] "
   ]
  },
  {
   "cell_type": "code",
   "execution_count": 47,
   "id": "d63745ad-3f02-48ad-9bf3-972fee5c5d8a",
   "metadata": {},
   "outputs": [
    {
     "ename": "TypeError",
     "evalue": "must be str, not list",
     "output_type": "error",
     "traceback": [
      "\u001b[0;31m---------------------------------------------------------------------------\u001b[0m",
      "\u001b[0;31mTypeError\u001b[0m                                 Traceback (most recent call last)",
      "Cell \u001b[0;32mIn [47], line 3\u001b[0m\n\u001b[1;32m      1\u001b[0m texts \u001b[38;5;241m=\u001b[39m [\u001b[38;5;124m\"\u001b[39m\u001b[38;5;124mThis is a sample text with a phone number (123) 456-7890 and an email address test@example.com\u001b[39m\u001b[38;5;124m\"\u001b[39m,         \u001b[38;5;124m\"\u001b[39m\u001b[38;5;124mAnother sample text with a phone number 555-123-4567 and an email address another@test.com\u001b[39m\u001b[38;5;124m\"\u001b[39m]\n\u001b[0;32m----> 3\u001b[0m df \u001b[38;5;241m=\u001b[39m \u001b[43mcreate_ner_dataframe\u001b[49m\u001b[43m(\u001b[49m\u001b[43mtexts\u001b[49m\u001b[43m)\u001b[49m\n\u001b[1;32m      4\u001b[0m \u001b[38;5;28mprint\u001b[39m(df)\n",
      "Cell \u001b[0;32mIn [45], line 107\u001b[0m, in \u001b[0;36mcreate_ner_dataframe\u001b[0;34m(texts)\u001b[0m\n\u001b[1;32m    105\u001b[0m phones \u001b[38;5;241m=\u001b[39m [parse_phone_number(text) \u001b[38;5;28;01mfor\u001b[39;00m text \u001b[38;5;129;01min\u001b[39;00m texts]\n\u001b[1;32m    106\u001b[0m emails \u001b[38;5;241m=\u001b[39m [parse_email(text) \u001b[38;5;28;01mfor\u001b[39;00m text \u001b[38;5;129;01min\u001b[39;00m texts]\n\u001b[0;32m--> 107\u001b[0m labels \u001b[38;5;241m=\u001b[39m \u001b[43mlabel_text\u001b[49m\u001b[43m(\u001b[49m\u001b[43mtexts\u001b[49m\u001b[43m,\u001b[49m\u001b[43m \u001b[49m\u001b[43mphones\u001b[49m\u001b[43m,\u001b[49m\u001b[43m \u001b[49m\u001b[43memails\u001b[49m\u001b[43m)\u001b[49m\n\u001b[1;32m    108\u001b[0m data \u001b[38;5;241m=\u001b[39m {\u001b[38;5;124m'\u001b[39m\u001b[38;5;124mtext\u001b[39m\u001b[38;5;124m'\u001b[39m: texts, \u001b[38;5;124m'\u001b[39m\u001b[38;5;124mphone\u001b[39m\u001b[38;5;124m'\u001b[39m: phones, \u001b[38;5;124m'\u001b[39m\u001b[38;5;124memail\u001b[39m\u001b[38;5;124m'\u001b[39m: emails, \u001b[38;5;124m'\u001b[39m\u001b[38;5;124mlabels\u001b[39m\u001b[38;5;124m'\u001b[39m: labels}\n\u001b[1;32m    109\u001b[0m df \u001b[38;5;241m=\u001b[39m pd\u001b[38;5;241m.\u001b[39mDataFrame(data)\n",
      "Cell \u001b[0;32mIn [45], line 89\u001b[0m, in \u001b[0;36mlabel_text\u001b[0;34m(texts, phones, emails)\u001b[0m\n\u001b[1;32m     77\u001b[0m \u001b[38;5;28;01mdef\u001b[39;00m \u001b[38;5;21mlabel_text\u001b[39m(texts, phones, emails):\n\u001b[1;32m     78\u001b[0m     \u001b[38;5;124;03m\"\"\"\u001b[39;00m\n\u001b[1;32m     79\u001b[0m \u001b[38;5;124;03m    Label the phone numbers and email addresses in a list of texts with NER tags.\u001b[39;00m\n\u001b[1;32m     80\u001b[0m \n\u001b[0;32m   (...)\u001b[0m\n\u001b[1;32m     87\u001b[0m \u001b[38;5;124;03m    A list of lists of tuples, where each tuple contains a token and its NER label.\u001b[39;00m\n\u001b[1;32m     88\u001b[0m \u001b[38;5;124;03m    \"\"\"\u001b[39;00m\n\u001b[0;32m---> 89\u001b[0m     labels \u001b[38;5;241m=\u001b[39m [process_text(text, phones, emails) \u001b[38;5;28;01mfor\u001b[39;00m text \u001b[38;5;129;01min\u001b[39;00m texts]\n\u001b[1;32m     90\u001b[0m     \u001b[38;5;28;01mreturn\u001b[39;00m labels\n",
      "Cell \u001b[0;32mIn [45], line 89\u001b[0m, in \u001b[0;36m<listcomp>\u001b[0;34m(.0)\u001b[0m\n\u001b[1;32m     77\u001b[0m \u001b[38;5;28;01mdef\u001b[39;00m \u001b[38;5;21mlabel_text\u001b[39m(texts, phones, emails):\n\u001b[1;32m     78\u001b[0m     \u001b[38;5;124;03m\"\"\"\u001b[39;00m\n\u001b[1;32m     79\u001b[0m \u001b[38;5;124;03m    Label the phone numbers and email addresses in a list of texts with NER tags.\u001b[39;00m\n\u001b[1;32m     80\u001b[0m \n\u001b[0;32m   (...)\u001b[0m\n\u001b[1;32m     87\u001b[0m \u001b[38;5;124;03m    A list of lists of tuples, where each tuple contains a token and its NER label.\u001b[39;00m\n\u001b[1;32m     88\u001b[0m \u001b[38;5;124;03m    \"\"\"\u001b[39;00m\n\u001b[0;32m---> 89\u001b[0m     labels \u001b[38;5;241m=\u001b[39m [\u001b[43mprocess_text\u001b[49m\u001b[43m(\u001b[49m\u001b[43mtext\u001b[49m\u001b[43m,\u001b[49m\u001b[43m \u001b[49m\u001b[43mphones\u001b[49m\u001b[43m,\u001b[49m\u001b[43m \u001b[49m\u001b[43memails\u001b[49m\u001b[43m)\u001b[49m \u001b[38;5;28;01mfor\u001b[39;00m text \u001b[38;5;129;01min\u001b[39;00m texts]\n\u001b[1;32m     90\u001b[0m     \u001b[38;5;28;01mreturn\u001b[39;00m labels\n",
      "Cell \u001b[0;32mIn [45], line 51\u001b[0m, in \u001b[0;36mprocess_text\u001b[0;34m(text, phones, emails)\u001b[0m\n\u001b[1;32m     49\u001b[0m phone_tokens \u001b[38;5;241m=\u001b[39m []\n\u001b[1;32m     50\u001b[0m \u001b[38;5;28;01mfor\u001b[39;00m phone \u001b[38;5;129;01min\u001b[39;00m phones:\n\u001b[0;32m---> 51\u001b[0m     start \u001b[38;5;241m=\u001b[39m \u001b[43mtext\u001b[49m\u001b[38;5;241;43m.\u001b[39;49m\u001b[43mfind\u001b[49m\u001b[43m(\u001b[49m\u001b[43mphone\u001b[49m\u001b[43m)\u001b[49m\n\u001b[1;32m     52\u001b[0m     \u001b[38;5;28;01mwhile\u001b[39;00m start \u001b[38;5;241m!=\u001b[39m \u001b[38;5;241m-\u001b[39m\u001b[38;5;241m1\u001b[39m:\n\u001b[1;32m     53\u001b[0m         end \u001b[38;5;241m=\u001b[39m start \u001b[38;5;241m+\u001b[39m \u001b[38;5;28mlen\u001b[39m(phone)\n",
      "\u001b[0;31mTypeError\u001b[0m: must be str, not list"
     ]
    }
   ],
   "source": [
    "texts = [\"This is a sample text with a phone number (123) 456-7890 and an email address test@example.com\",         \"Another sample text with a phone number 555-123-4567 and an email address another@test.com\"]\n",
    "\n",
    "df = create_ner_dataframe(texts)\n",
    "print(df)"
   ]
  },
  {
   "cell_type": "code",
   "execution_count": 41,
   "id": "f3a4f598-9555-4185-b5fd-cae4fb8d7ec2",
   "metadata": {},
   "outputs": [
    {
     "data": {
      "text/plain": [
       "[['O', 'O', 'O', 'I-PHONE', 'O'], ['O', 'I-PHONE']]"
      ]
     },
     "execution_count": 41,
     "metadata": {},
     "output_type": "execute_result"
    }
   ],
   "source": [
    "label_text(texts, phones[1], [])"
   ]
  },
  {
   "cell_type": "code",
   "execution_count": 33,
   "id": "586cdcbc-56c8-49d1-9081-812f6d920341",
   "metadata": {},
   "outputs": [],
   "source": [
    "texts = ['e-mail: makarenko.san@gmail.com Tel 0958427131 0687668047', 'ivanm 0958427131']\n",
    "# phones = ''\n",
    "# email = 'makarenko.san@gmail.com'"
   ]
  },
  {
   "cell_type": "code",
   "execution_count": 44,
   "id": "c2b099a1-d93d-4ece-9703-bf0ee534f3ff",
   "metadata": {},
   "outputs": [],
   "source": [
    "df = df.fillna('empty').copy()"
   ]
  },
  {
   "cell_type": "code",
   "execution_count": 49,
   "id": "2d157e92-f81a-4b47-9feb-a88342b000e8",
   "metadata": {},
   "outputs": [],
   "source": [
    "df = df.query(\"summary != 'empty'\").copy()"
   ]
  },
  {
   "cell_type": "code",
   "execution_count": 51,
   "id": "88b6ed0d-c2c7-4a7a-a589-36c805539b67",
   "metadata": {},
   "outputs": [],
   "source": [
    "df['summary'] = df['summary'].apply(remove_char).copy()"
   ]
  },
  {
   "cell_type": "code",
   "execution_count": 59,
   "id": "78238076-0a23-4754-adb0-3fb0cf4fbd7e",
   "metadata": {},
   "outputs": [],
   "source": [
    "df = df.rename(columns={\"all_email\":\"email\"}).copy()"
   ]
  },
  {
   "cell_type": "code",
   "execution_count": 91,
   "id": "3059a5d9-8767-4fcd-83dd-64e963fc7f64",
   "metadata": {},
   "outputs": [
    {
     "data": {
      "text/html": [
       "<div>\n",
       "<style scoped>\n",
       "    .dataframe tbody tr th:only-of-type {\n",
       "        vertical-align: middle;\n",
       "    }\n",
       "\n",
       "    .dataframe tbody tr th {\n",
       "        vertical-align: top;\n",
       "    }\n",
       "\n",
       "    .dataframe thead th {\n",
       "        text-align: right;\n",
       "    }\n",
       "</style>\n",
       "<table border=\"1\" class=\"dataframe\">\n",
       "  <thead>\n",
       "    <tr style=\"text-align: right;\">\n",
       "      <th></th>\n",
       "      <th>Unnamed: 0</th>\n",
       "      <th>id</th>\n",
       "      <th>phone</th>\n",
       "      <th>email</th>\n",
       "      <th>summary</th>\n",
       "    </tr>\n",
       "  </thead>\n",
       "  <tbody>\n",
       "    <tr>\n",
       "      <th>0</th>\n",
       "      <td>21</td>\n",
       "      <td>%D0%B0%D0%BB%D0%B5%D0%BA%D1%81%D0%B0%D0%BD%D0%...</td>\n",
       "      <td>0630676115</td>\n",
       "      <td>empty</td>\n",
       "      <td>Ф.И.О. Бойко Александр Юрьевич Дата рождения 0...</td>\n",
       "    </tr>\n",
       "    <tr>\n",
       "      <th>1</th>\n",
       "      <td>56</td>\n",
       "      <td>%D0%B0%D0%B4%D0%B8%D0%BB%D0%BE%D0%B2%D0%B0-%D0...</td>\n",
       "      <td>0953275561</td>\n",
       "      <td>['opt.ibezpeka@gmail.com', 'opt.ibezpeka@i.ua']</td>\n",
       "      <td>Продажа систем безопасности по низким ценам: п...</td>\n",
       "    </tr>\n",
       "    <tr>\n",
       "      <th>2</th>\n",
       "      <td>182</td>\n",
       "      <td>%D0%B0%D0%BB%D0%B5%D0%BA%D1%81%D0%B0%D0%BD%D0%...</td>\n",
       "      <td>0503341033</td>\n",
       "      <td>empty</td>\n",
       "      <td>Тел.: моб. 050 334 10 33. Опыт работы: С 11.20...</td>\n",
       "    </tr>\n",
       "    <tr>\n",
       "      <th>3</th>\n",
       "      <td>355</td>\n",
       "      <td>%D0%B0%D0%BB%D0%B5%D0%BA%D1%81%D0%B0%D0%BD%D0%...</td>\n",
       "      <td>0994696824</td>\n",
       "      <td>empty</td>\n",
       "      <td>Ссылка на моё портфолио: Владение всем пакетом...</td>\n",
       "    </tr>\n",
       "    <tr>\n",
       "      <th>4</th>\n",
       "      <td>373</td>\n",
       "      <td>%D0%B0%D0%BB%D0%B5%D0%BA%D1%81%D0%B0%D0%BD%D0%...</td>\n",
       "      <td>0503308726</td>\n",
       "      <td>['lps@nitki.com.ua']</td>\n",
       "      <td>Мы более 24 лет торгуем швейными нитками на Ук...</td>\n",
       "    </tr>\n",
       "    <tr>\n",
       "      <th>...</th>\n",
       "      <td>...</td>\n",
       "      <td>...</td>\n",
       "      <td>...</td>\n",
       "      <td>...</td>\n",
       "      <td>...</td>\n",
       "    </tr>\n",
       "    <tr>\n",
       "      <th>24598</th>\n",
       "      <td>645881</td>\n",
       "      <td>роман-галустян-a4128b243</td>\n",
       "      <td>0668686101</td>\n",
       "      <td>['galustyanr@gmail.com']</td>\n",
       "      <td>Looking for a full-time job as Junior Hard Ski...</td>\n",
       "    </tr>\n",
       "    <tr>\n",
       "      <th>24599</th>\n",
       "      <td>645893</td>\n",
       "      <td>роман-голуза-3976bb133</td>\n",
       "      <td>empty</td>\n",
       "      <td>['goluzar@gmail.com']</td>\n",
       "      <td>В данный момент готов рассмотреть все предложе...</td>\n",
       "    </tr>\n",
       "    <tr>\n",
       "      <th>24600</th>\n",
       "      <td>645907</td>\n",
       "      <td>роман-дубовой-1b9788bb</td>\n",
       "      <td>0673969649</td>\n",
       "      <td>empty</td>\n",
       "      <td>Интернет проект Либерти Клаб​ Миссия проекта В...</td>\n",
       "    </tr>\n",
       "    <tr>\n",
       "      <th>24601</th>\n",
       "      <td>645935</td>\n",
       "      <td>работа-онлайн-2b9274207</td>\n",
       "      <td>0997277432</td>\n",
       "      <td>empty</td>\n",
       "      <td>Предложение🗣️ Расскажу как зарабатывать дома, ...</td>\n",
       "    </tr>\n",
       "    <tr>\n",
       "      <th>24602</th>\n",
       "      <td>646073</td>\n",
       "      <td>роман-кулак-2b7b04141</td>\n",
       "      <td>0632695939</td>\n",
       "      <td>empty</td>\n",
       "      <td>Добрый день!Меня зовут Роман.Ищу работу личным...</td>\n",
       "    </tr>\n",
       "  </tbody>\n",
       "</table>\n",
       "<p>16852 rows × 5 columns</p>\n",
       "</div>"
      ],
      "text/plain": [
       "       Unnamed: 0                                                 id  \\\n",
       "0              21  %D0%B0%D0%BB%D0%B5%D0%BA%D1%81%D0%B0%D0%BD%D0%...   \n",
       "1              56  %D0%B0%D0%B4%D0%B8%D0%BB%D0%BE%D0%B2%D0%B0-%D0...   \n",
       "2             182  %D0%B0%D0%BB%D0%B5%D0%BA%D1%81%D0%B0%D0%BD%D0%...   \n",
       "3             355  %D0%B0%D0%BB%D0%B5%D0%BA%D1%81%D0%B0%D0%BD%D0%...   \n",
       "4             373  %D0%B0%D0%BB%D0%B5%D0%BA%D1%81%D0%B0%D0%BD%D0%...   \n",
       "...           ...                                                ...   \n",
       "24598      645881                           роман-галустян-a4128b243   \n",
       "24599      645893                             роман-голуза-3976bb133   \n",
       "24600      645907                             роман-дубовой-1b9788bb   \n",
       "24601      645935                            работа-онлайн-2b9274207   \n",
       "24602      646073                              роман-кулак-2b7b04141   \n",
       "\n",
       "            phone                                            email  \\\n",
       "0      0630676115                                            empty   \n",
       "1      0953275561  ['opt.ibezpeka@gmail.com', 'opt.ibezpeka@i.ua']   \n",
       "2      0503341033                                            empty   \n",
       "3      0994696824                                            empty   \n",
       "4      0503308726                             ['lps@nitki.com.ua']   \n",
       "...           ...                                              ...   \n",
       "24598  0668686101                         ['galustyanr@gmail.com']   \n",
       "24599       empty                            ['goluzar@gmail.com']   \n",
       "24600  0673969649                                            empty   \n",
       "24601  0997277432                                            empty   \n",
       "24602  0632695939                                            empty   \n",
       "\n",
       "                                                 summary  \n",
       "0      Ф.И.О. Бойко Александр Юрьевич Дата рождения 0...  \n",
       "1      Продажа систем безопасности по низким ценам: п...  \n",
       "2      Тел.: моб. 050 334 10 33. Опыт работы: С 11.20...  \n",
       "3      Ссылка на моё портфолио: Владение всем пакетом...  \n",
       "4      Мы более 24 лет торгуем швейными нитками на Ук...  \n",
       "...                                                  ...  \n",
       "24598  Looking for a full-time job as Junior Hard Ski...  \n",
       "24599  В данный момент готов рассмотреть все предложе...  \n",
       "24600  Интернет проект Либерти Клаб​ Миссия проекта В...  \n",
       "24601  Предложение🗣️ Расскажу как зарабатывать дома, ...  \n",
       "24602  Добрый день!Меня зовут Роман.Ищу работу личным...  \n",
       "\n",
       "[16852 rows x 5 columns]"
      ]
     },
     "execution_count": 91,
     "metadata": {},
     "output_type": "execute_result"
    }
   ],
   "source": [
    "df"
   ]
  },
  {
   "cell_type": "code",
   "execution_count": 82,
   "id": "06fce760-70b1-4368-97c7-60c7348e2351",
   "metadata": {},
   "outputs": [
    {
     "data": {
      "text/plain": [
       "\"['makarenko.san@gmail.com']\""
      ]
     },
     "execution_count": 82,
     "metadata": {},
     "output_type": "execute_result"
    }
   ],
   "source": [
    "create_ner_dataframe(df['summary'].head(10).to_list(), df['phone'].head(10).to_list(), df['email'].head(10).to_list())['email'].iloc[5]"
   ]
  },
  {
   "cell_type": "code",
   "execution_count": 6,
   "id": "66dc8966-6bcd-439d-a9aa-73ba0d08e7be",
   "metadata": {},
   "outputs": [
    {
     "data": {
      "text/html": [
       "<div>\n",
       "<style scoped>\n",
       "    .dataframe tbody tr th:only-of-type {\n",
       "        vertical-align: middle;\n",
       "    }\n",
       "\n",
       "    .dataframe tbody tr th {\n",
       "        vertical-align: top;\n",
       "    }\n",
       "\n",
       "    .dataframe thead th {\n",
       "        text-align: right;\n",
       "    }\n",
       "</style>\n",
       "<table border=\"1\" class=\"dataframe\">\n",
       "  <thead>\n",
       "    <tr style=\"text-align: right;\">\n",
       "      <th></th>\n",
       "      <th>text</th>\n",
       "      <th>phone</th>\n",
       "      <th>email</th>\n",
       "      <th>labels</th>\n",
       "    </tr>\n",
       "  </thead>\n",
       "  <tbody>\n",
       "    <tr>\n",
       "      <th>0</th>\n",
       "      <td>e-mail: makarenko.san@gmail.com Tel.: +3806744...</td>\n",
       "      <td>0674418910</td>\n",
       "      <td>makarenko.san@gmail.com</td>\n",
       "      <td>[O, I-EMAIL, O, I-PHONE, O]</td>\n",
       "    </tr>\n",
       "  </tbody>\n",
       "</table>\n",
       "</div>"
      ],
      "text/plain": [
       "                                                text       phone  \\\n",
       "0  e-mail: makarenko.san@gmail.com Tel.: +3806744...  0674418910   \n",
       "\n",
       "                     email                       labels  \n",
       "0  makarenko.san@gmail.com  [O, I-EMAIL, O, I-PHONE, O]  "
      ]
     },
     "execution_count": 6,
     "metadata": {},
     "output_type": "execute_result"
    }
   ],
   "source": [
    "## tel format, many emails\n",
    "create_ner_dataframe(['e-mail: makarenko.san@gmail.com Tel.: +380674418910. kaliani@gmail.com'], ['0674418910'], ['makarenko.san@gmail.com'])"
   ]
  },
  {
   "cell_type": "code",
   "execution_count": 4,
   "id": "d9b3cdf1-d839-4572-b7b7-09399f3b3c82",
   "metadata": {},
   "outputs": [],
   "source": [
    "texts = 'e-mail: makarenko.san@gmail.com Tel.: 0674418910. kalbska, '\n",
    "phones = ''\n",
    "email = 'makarenko.san@gmail.com'"
   ]
  },
  {
   "cell_type": "code",
   "execution_count": 180,
   "id": "ae3b7e32-0013-4cdc-8147-14e6955104c5",
   "metadata": {},
   "outputs": [
    {
     "data": {
      "text/plain": [
       "[('e-mail:', 'I-EMAIL'),\n",
       " ('makarenko.san@gmail.com', 'I-EMAIL'),\n",
       " ('Tel.:', 'I-EMAIL'),\n",
       " ('0674418910.', 'I-EMAIL'),\n",
       " ('kalbska,', 'I-EMAIL')]"
      ]
     },
     "execution_count": 180,
     "metadata": {},
     "output_type": "execute_result"
    }
   ],
   "source": [
    "process_text(texts, phones, email)"
   ]
  },
  {
   "cell_type": "code",
   "execution_count": 156,
   "id": "c178cce1-eeb9-4316-ba73-dbdda72193f3",
   "metadata": {},
   "outputs": [],
   "source": [
    "    phone_tokens = []\n",
    "    for phone in phones:\n",
    "        start = text.find(phone)\n",
    "        while start != -1:\n",
    "            end = start + len(phone)\n",
    "            phone_tokens.append((phone, start, end))\n",
    "            start = text.find(phone, end)"
   ]
  },
  {
   "cell_type": "code",
   "execution_count": 161,
   "id": "59734f93-29b4-4f28-b838-d0de761dfa47",
   "metadata": {},
   "outputs": [],
   "source": [
    "tokens = texts.split()\n",
    "labels = ['O'] * len(tokens)"
   ]
  },
  {
   "cell_type": "code",
   "execution_count": 163,
   "id": "268bae9d-2f1c-40be-ae1f-876b6c39b689",
   "metadata": {},
   "outputs": [],
   "source": [
    "    for token, start, end in phone_tokens + email_tokens:\n",
    "        for i in range(len(tokens)):\n",
    "            if start <= len(' '.join(tokens[:i+1]))-1 and end > len(' '.join(tokens[:i])):\n",
    "                if start == len(' '.join(tokens[:i])):\n",
    "                    labels[i] = f'B-{\"PHONE\" if token in phones else \"EMAIL\"}'\n",
    "                else:\n",
    "                    labels[i] = f'I-{\"PHONE\" if token in phones else \"EMAIL\"}'"
   ]
  },
  {
   "cell_type": "code",
   "execution_count": 168,
   "id": "15c4d356-5877-49ad-89a6-bf8b21ad3aa5",
   "metadata": {},
   "outputs": [
    {
     "data": {
      "text/plain": [
       "74"
      ]
     },
     "execution_count": 168,
     "metadata": {},
     "output_type": "execute_result"
    }
   ],
   "source": [
    "len(' '.join(tokens[:i+1]))-1"
   ]
  },
  {
   "cell_type": "code",
   "execution_count": 164,
   "id": "70f40bad-63fb-4f8f-8e7e-6b157ea1a0f7",
   "metadata": {},
   "outputs": [
    {
     "data": {
      "text/plain": [
       "['I-EMAIL', 'I-EMAIL', 'I-EMAIL', 'I-PHONE', 'I-EMAIL', 'I-EMAIL']"
      ]
     },
     "execution_count": 164,
     "metadata": {},
     "output_type": "execute_result"
    }
   ],
   "source": [
    "labels"
   ]
  },
  {
   "cell_type": "code",
   "execution_count": 131,
   "id": "8804f046-a738-4901-b619-f76573666357",
   "metadata": {},
   "outputs": [
    {
     "name": "stdout",
     "output_type": "stream",
     "text": [
      "43\n"
     ]
    }
   ],
   "source": [
    "for token, start, end in phone_tokens + email_tokens:\n",
    "    print(end)\n",
    "    break"
   ]
  },
  {
   "cell_type": "code",
   "execution_count": 104,
   "id": "d41ffe75-27a1-4eb8-8266-5e06a051f32e",
   "metadata": {},
   "outputs": [],
   "source": [
    "def parse_phone_number(text):\n",
    "    # Define regular expression to match phone number\n",
    "    phone_regex = r'\\(?\\d{3}\\)?[-.\\s]?\\d{3}[-.\\s]?\\d{4}'\n",
    "    \n",
    "    # Find all matches of phone number in text\n",
    "    phone_matches = re.findall(phone_regex, text)\n",
    "    \n",
    "    # Replace each phone number with a tagged version\n",
    "    for phone in phone_matches:\n",
    "        text = text.replace(phone, f'<PHONE>{phone}</PHONE>')\n",
    "    \n",
    "    return text\n",
    "\n",
    "def parse_email(text):\n",
    "    # Define regular expression to match email\n",
    "    email_regex = r'\\b[A-Za-z0-9._%+-]+@[A-Za-z0-9.-]+\\.[A-Z|a-z]{2,}\\b'\n",
    "    \n",
    "    # Find all matches of email in text\n",
    "    email_matches = re.findall(email_regex, text)\n",
    "    \n",
    "    # Replace each email with a tagged version\n",
    "    for email in email_matches:\n",
    "        text = text.replace(email, f'<EMAIL>{email}</EMAIL>')\n",
    "    \n",
    "    return email_matches"
   ]
  },
  {
   "cell_type": "code",
   "execution_count": 105,
   "id": "c6d4d035-0460-4d3c-b0c9-1cd350bd406d",
   "metadata": {},
   "outputs": [
    {
     "data": {
      "text/plain": [
       "['makarenko.san@gmail.com', 'kaliani@gmail.com']"
      ]
     },
     "execution_count": 105,
     "metadata": {},
     "output_type": "execute_result"
    }
   ],
   "source": [
    "parse_email('e-mail: makarenko.san@gmail.com Tel.: +380674418910. kaliani@gmail.com')"
   ]
  },
  {
   "cell_type": "code",
   "execution_count": 109,
   "id": "c1127f65-4700-4bec-acdb-338f1854599f",
   "metadata": {},
   "outputs": [
    {
     "data": {
      "text/plain": [
       "8"
      ]
     },
     "execution_count": 109,
     "metadata": {},
     "output_type": "execute_result"
    }
   ],
   "source": [
    "texts.find('makarenko.san@gmail.com')"
   ]
  },
  {
   "cell_type": "code",
   "execution_count": 112,
   "id": "606be35e-afba-4cc9-9293-1b41fab132e9",
   "metadata": {},
   "outputs": [
    {
     "data": {
      "text/plain": [
       "'m'"
      ]
     },
     "execution_count": 112,
     "metadata": {},
     "output_type": "execute_result"
    }
   ],
   "source": []
  }
 ],
 "metadata": {
  "kernelspec": {
   "display_name": "Python 3 (ipykernel)",
   "language": "python",
   "name": "python3"
  },
  "language_info": {
   "codemirror_mode": {
    "name": "ipython",
    "version": 3
   },
   "file_extension": ".py",
   "mimetype": "text/x-python",
   "name": "python",
   "nbconvert_exporter": "python",
   "pygments_lexer": "ipython3",
   "version": "3.9.12"
  }
 },
 "nbformat": 4,
 "nbformat_minor": 5
}
